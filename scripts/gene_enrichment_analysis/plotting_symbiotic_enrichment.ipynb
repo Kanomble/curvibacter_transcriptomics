{
 "cells": [
  {
   "cell_type": "code",
   "execution_count": null,
   "id": "c773768a",
   "metadata": {},
   "outputs": [],
   "source": [
    "import pandas as pd\n",
    "import numpy as np\n",
    "import matplotlib.pyplot as plt\n",
    "from matplotlib.cm import ScalarMappable"
   ]
  },
  {
   "cell_type": "code",
   "execution_count": null,
   "id": "d314fc10",
   "metadata": {},
   "outputs": [],
   "source": [
    "kegg_dataframe = pd.read_csv(\"../../results/gene_enrichment_analysis/kegg_enrich_symbiotic.csv\")\n",
    "#kegg_dataframe.head()"
   ]
  },
  {
   "cell_type": "code",
   "execution_count": null,
   "id": "ab3ad3bc",
   "metadata": {},
   "outputs": [],
   "source": [
    "filtered_dataframe = kegg_dataframe[kegg_dataframe[\"p.adjust\"] <= 0.05]\n",
    "#filtered_dataframe.head()"
   ]
  },
  {
   "cell_type": "code",
   "execution_count": null,
   "id": "79d6571a",
   "metadata": {},
   "outputs": [],
   "source": [
    "kegg_id_labels = filtered_dataframe[\"ID\"].to_numpy()\n",
    "kegg_descriptions_labels = filtered_dataframe[\"Description\"].to_numpy()\n",
    "kegg_pvalue = filtered_dataframe[\"p.adjust\"].to_numpy()\n",
    "kegg_counts = filtered_dataframe[\"Count\"].to_numpy()\n",
    "kegg_clustersize = np.array(filtered_dataframe[\"BgRatio\"].apply(lambda x: int(x.split(\"/\")[0])))"
   ]
  },
  {
   "cell_type": "code",
   "execution_count": null,
   "id": "bee5e9a6",
   "metadata": {},
   "outputs": [],
   "source": [
    "go_dataframe = pd.read_table(\"../../results/gene_enrichment_analysis/symbiotic_genes/symbiotic_proteins_enrichment.txt\")\n",
    "filtered_go_dataframe = go_dataframe[go_dataframe[\"p_fdr_bh\"] <= 0.005]\n",
    "\n",
    "filtered_terms = []\n",
    "for study_items, go_term, count in zip(filtered_go_dataframe.study_items,filtered_go_dataframe[\"# GO\"], filtered_go_dataframe[\"study_count\"]):\n",
    "    \n",
    "    if count > 0:\n",
    "        study_items = study_items.split(\",\")\n",
    "        study_items = [item.strip() for item in study_items]\n",
    "\n",
    "\n",
    "        for study_items2, go_term2, count2 in zip(filtered_go_dataframe.study_items, filtered_go_dataframe[\"# GO\"], filtered_go_dataframe[\"study_count\"]):\n",
    "            if count2 > 0:\n",
    "                if go_term != go_term2:\n",
    "                    study_items2 = study_items2.split(\",\")\n",
    "                    study_items2 = [item.strip() for item in study_items2]\n",
    "\n",
    "                    if sorted(study_items2) == sorted(study_items):\n",
    "                        goterms = [go_term, go_term2]\n",
    "                        sorted_goterms = sorted(goterms)\n",
    "                        if sorted_goterms not in filtered_terms:\n",
    "                            filtered_terms.append(sorted_goterms)\n",
    "\n",
    "# these GO-terms \n",
    "gos_to_remove = []\n",
    "for godouble in filtered_terms:\n",
    "    for go in godouble:\n",
    "        if go != \"GO:1901616\":\n",
    "            gos_to_remove.append(go)\n",
    "            \n",
    "gos_to_keep = []\n",
    "for go in filtered_go_dataframe[\"# GO\"].to_list():\n",
    "    if go not in gos_to_remove:\n",
    "        gos_to_keep.append(go)"
   ]
  },
  {
   "cell_type": "code",
   "execution_count": null,
   "id": "17e470d7",
   "metadata": {},
   "outputs": [],
   "source": [
    "sorted_filtered_go_dataframe = filtered_go_dataframe[filtered_go_dataframe[\"# GO\"].isin(gos_to_keep)].sort_values(by=\"p_fdr_bh\", ascending=True)"
   ]
  },
  {
   "cell_type": "code",
   "execution_count": null,
   "id": "fa26a122",
   "metadata": {},
   "outputs": [],
   "source": [
    "sorted_filtered_go_dataframe[\"pop_count\"] = sorted_filtered_go_dataframe[\"ratio_in_pop\"].apply(lambda x: int(x.split(\"/\")[0]))\n",
    "sorted_filtered_go_dataframe[\"count\"] = sorted_filtered_go_dataframe[\"ratio_in_study\"].apply(lambda x: int(x.split(\"/\")[0]))"
   ]
  },
  {
   "cell_type": "code",
   "execution_count": null,
   "id": "99ffdb58",
   "metadata": {},
   "outputs": [],
   "source": [
    "for name,item in zip(go_dataframe[\"name\"],go_dataframe[\"study_items\"]):\n",
    "    try:\n",
    "        if \"gene:AEP_03479\" in item:\n",
    "            print(name)\n",
    "    except:\n",
    "        continue"
   ]
  },
  {
   "cell_type": "code",
   "execution_count": null,
   "id": "0bd8313e",
   "metadata": {},
   "outputs": [],
   "source": [
    "sorted_filtered_go_dataframe = sorted_filtered_go_dataframe[(sorted_filtered_go_dataframe[\"pop_count\"] <= 350)&(sorted_filtered_go_dataframe[\"ratio_in_study\"] != \"0/274\")]"
   ]
  },
  {
   "cell_type": "code",
   "execution_count": null,
   "id": "0ce51bdc",
   "metadata": {},
   "outputs": [],
   "source": [
    "sorted_filtered_go_dataframe = sorted_filtered_go_dataframe[sorted_filtered_go_dataframe[\"name\"] != \"nucleobase-containing compound metabolic process\"]\n",
    "sorted_filtered_go_dataframe = sorted_filtered_go_dataframe[sorted_filtered_go_dataframe[\"name\"] != \"cellular biosynthetic process\"]"
   ]
  },
  {
   "cell_type": "code",
   "execution_count": null,
   "id": "7628eef3",
   "metadata": {},
   "outputs": [],
   "source": [
    "sorted_filtered_go_dataframe"
   ]
  },
  {
   "cell_type": "code",
   "execution_count": null,
   "id": "68aaf3dd",
   "metadata": {},
   "outputs": [],
   "source": [
    "sorted_filtered_go_dataframe = sorted_filtered_go_dataframe.loc[reversed([24,16,0,20,22,5,4])]"
   ]
  },
  {
   "cell_type": "code",
   "execution_count": null,
   "id": "ce98c3c1",
   "metadata": {},
   "outputs": [],
   "source": [
    "go_id_labels = sorted_filtered_go_dataframe[\"# GO\"].to_numpy()\n",
    "go_descriptions_labels = sorted_filtered_go_dataframe[\"name\"].to_numpy()\n",
    "go_pvalue = sorted_filtered_go_dataframe[\"p_fdr_bh\"].to_numpy()\n",
    "go_counts = sorted_filtered_go_dataframe[\"study_count\"].to_numpy()\n",
    "go_clustersize = sorted_filtered_go_dataframe[\"pop_count\"].to_numpy()"
   ]
  },
  {
   "cell_type": "code",
   "execution_count": null,
   "id": "951ad859",
   "metadata": {},
   "outputs": [],
   "source": [
    "ylabels_kegg = []\n",
    "for KO, name in zip(kegg_id_labels,kegg_descriptions_labels):\n",
    "    ylabels_kegg.append(KO.split(\"ko\")[1] + \" \" + name)\n",
    "\n",
    "ylabels_kegg.append(\" \")\n",
    "ylabels_go = []\n",
    "for GO, name in zip(go_id_labels, go_descriptions_labels):\n",
    "    ylabels_go.append(GO.split(\":\")[1] + \" \" + name)"
   ]
  },
  {
   "cell_type": "code",
   "execution_count": null,
   "id": "b45a7d15",
   "metadata": {},
   "outputs": [],
   "source": [
    "kegg_counts_new = np.append(kegg_counts, 0)\n",
    "kegg_clustersize_new = np.append(kegg_clustersize, 0)\n",
    "counts = np.append(kegg_counts_new, go_counts)\n",
    "marker_size = counts\n",
    "clustersize = np.append(kegg_clustersize_new, go_clustersize)\n",
    "ratio = counts/clustersize\n",
    "labels = ylabels_kegg + ylabels_go\n",
    "\n",
    "kegg_pvalue_new = np.append(kegg_pvalue, 0)\n",
    "pvals = np.append(kegg_pvalue_new, go_pvalue)\n",
    "pcolors = pvals\n",
    "norm_p_values = np.array(pcolors) / max(pcolors)\n",
    "colors=plt.cm.RdBu_r(norm_p_values)\n",
    "\n",
    "sorted_arr = np.sort(marker_size[marker_size != 0])\n",
    "indices = np.linspace(0, len(sorted_arr) - 1, 6).astype(int)\n",
    "reduced_arr = sorted_arr[indices]\n",
    "\n",
    "fig, (ax1, ax2, ax3) = plt.subplots(1, 3, figsize=(18, 10), sharey=False, gridspec_kw={'width_ratios': [2.5, 2.0, 1]})\n",
    "\n",
    "ax1.sharey(ax2)\n",
    "\n",
    "ax1.barh(labels,width=counts, color=colors, edgecolor=\"black\")\n",
    "ax2.scatter(y=list(range(len(counts))), x=ratio, s=np.array(marker_size)*10, c=colors, cmap='RdBu_r', edgecolors=\"black\")\n",
    "\n",
    "\n",
    "ax1.axhline(y=4, color='red', linestyle='--', linewidth=2)\n",
    "#ax1.set_xlim(-50,50)\n",
    "ax1.set_xticks([0,5,10,20,30,40,50,60])\n",
    "ax1.set_xticklabels([0,5,10,20,30,40,50,60], fontsize=16)\n",
    "\n",
    "#ax1.set_xticklabels(, fontsize=20)\n",
    "ax1.set_yticks(range(len(labels)))\n",
    "ax1.set_yticklabels(labels, fontsize=20, fontdict={'fontweight':\"bold\"})\n",
    "ax1.set_xlabel(\"Count\", fontsize=20, labelpad=20,  fontdict={'fontweight':\"bold\"})\n",
    "ax1.grid()\n",
    "\n",
    "ax2.axhline(y=4, color='red', linestyle='--', linewidth=2)\n",
    "\n",
    "ax2.set_xlim(-0.1,1.1)\n",
    "ax2.set_xticks([0.0,0.25,0.5,0.75,1.0])\n",
    "ax2.set_xticklabels([0.0,0.25,0.5,0.75,1.0], fontsize=14)\n",
    "ax2.set_xlabel(\"Count/ClusterSize\", fontsize=20, labelpad=20,  fontdict={'fontweight':\"bold\"})\n",
    "ax2.tick_params(axis='y', labelleft=False)\n",
    "ax2.grid()\n",
    "\n",
    "plt.subplots_adjust(left=0.2, wspace=0.05)\n",
    "\n",
    "cbar = fig.colorbar(ScalarMappable(cmap='RdBu_r'), ax=[ax1, ax2], pad = 0.005)\n",
    "cbar.set_label('p-values',fontsize=20, labelpad=0)\n",
    "cbar.set_ticks([min(norm_p_values), max(norm_p_values)])\n",
    "cbar.set_ticklabels([f'{min(pvals):.2f}', f'{max(pvals):.2f}'])\n",
    "cbar.ax.tick_params(labelsize=20)\n",
    "\n",
    "cbar.ax.set_position([0.71, 0.12, 0.03, 0.35])\n",
    "\n",
    "ax3.set_position([0.71, 0.52, 0.05, 0.315])\n",
    "ax3.scatter(x=[0.5 for i in reduced_arr], y=[0,1,2,3,4,5], s=np.array(reduced_arr)*10, color=\"grey\", edgecolor=\"black\")\n",
    "ax3.set_yticks([0,1,2,3,4,5])\n",
    "ax3.set_yticklabels(reduced_arr, fontsize=20)\n",
    "ax3.set_xlim(0,1)\n",
    "ax3.set_ylim(-1,6)\n",
    "ax3.tick_params(axis='y', labelright=True, labelleft=False)\n",
    "ax3.tick_params(axis='x', labelbottom=False)\n",
    "ax3.set_xticks([])\n",
    "ax3.yaxis.tick_right()   \n",
    "ax3.set_title(\"Count\", pad=10, fontsize=20)\n",
    "\n",
    "plt.text(-21, 2, 'GO', fontsize=20, rotation=90, va='center', fontdict={'fontweight':\"bold\"})\n",
    "plt.text(-21, -6, 'KEGG', fontsize=20, rotation=90, va='center', fontdict={'fontweight':\"bold\"})\n",
    "\n",
    "#ax1.set_ylabel(\"KO Categories                GO Categories\", fontsize=16)\n",
    "#ax3.grid()\n",
    "#ax3.axis(\"off\")\n",
    "#plt.tight_layout()\n",
    "plt.savefig(\"../../results/gene_enrichment_analysis/symbiotic_genes/symbiotic_kegg_go_combined.jpg\", dpi=400, bbox_inches='tight')\n"
   ]
  }
 ],
 "metadata": {
  "kernelspec": {
   "display_name": "Python 3 (ipykernel)",
   "language": "python",
   "name": "python3"
  },
  "language_info": {
   "codemirror_mode": {
    "name": "ipython",
    "version": 3
   },
   "file_extension": ".py",
   "mimetype": "text/x-python",
   "name": "python",
   "nbconvert_exporter": "python",
   "pygments_lexer": "ipython3",
   "version": "3.8.11"
  }
 },
 "nbformat": 4,
 "nbformat_minor": 5
}
