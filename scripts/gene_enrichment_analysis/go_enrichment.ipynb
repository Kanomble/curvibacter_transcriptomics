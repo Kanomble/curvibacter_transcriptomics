{
 "cells": [
  {
   "cell_type": "code",
   "execution_count": null,
   "id": "5e9951cc",
   "metadata": {},
   "outputs": [],
   "source": [
    "import pandas as pd\n",
    "import numpy as np\n",
    "from os.path import isfile\n",
    "import matplotlib.pyplot as plt\n",
    "from matplotlib.cm import ScalarMappable\n",
    "import textwrap"
   ]
  },
  {
   "cell_type": "code",
   "execution_count": null,
   "id": "6eeb8f91",
   "metadata": {},
   "outputs": [],
   "source": [
    "result_path = \"../../results/gene_enrichment_analysis/goatools/\"\n",
    "data_path = \"../../results/rsem/\"\n",
    "samples_path = \"../../data/rsem/samples.csv\"\n",
    "samples_dataframe = pd.read_csv(samples_path)"
   ]
  },
  {
   "cell_type": "markdown",
   "id": "0cc1b400",
   "metadata": {},
   "source": [
    "# Preparation of input files for goatools"
   ]
  },
  {
   "cell_type": "code",
   "execution_count": null,
   "id": "957dfd3d",
   "metadata": {},
   "outputs": [],
   "source": [
    "dataframes = []\n",
    "for unique_sample in samples_dataframe.treatment.unique():\n",
    "    for unique_sample_2 in samples_dataframe.treatment.unique():\n",
    "        if unique_sample != unique_sample_2:\n",
    "            file = data_path + unique_sample + \"_vs_\" + unique_sample_2 + \".CSV\"\n",
    "            if isfile(file):\n",
    "                dataframes.append(file)\n",
    "dataframes"
   ]
  },
  {
   "cell_type": "code",
   "execution_count": null,
   "id": "7ec4f6d3",
   "metadata": {},
   "outputs": [],
   "source": [
    "curvibacter_genes_df = pd.read_csv(\"../../results/curvibacter_genome_annotation.csv\")\n",
    "curvibacter_genes_df[\"gene_id\"] = curvibacter_genes_df[\"gene_id\"].apply(lambda x: \"gene:\"+x)\n",
    "curvibacter_genes_df.head()"
   ]
  },
  {
   "cell_type": "code",
   "execution_count": null,
   "id": "18e13f04",
   "metadata": {},
   "outputs": [],
   "source": [
    "# writing population and associations file \n",
    "go_gene_ids = []\n",
    "with open(result_path + \"associations.txt\", \"w\") as associations_file:\n",
    "    with open(result_path + \"populations.txt\", \"w\") as populations_file:\n",
    "        for gene_id in curvibacter_genes_df[\"gene_id\"]:\n",
    "            if curvibacter_genes_df[curvibacter_genes_df[\"gene_id\"] == gene_id].GO.values[0] != \"unknown\":\n",
    "                \n",
    "                go_gene_ids.append(gene_id)\n",
    "                populations_file.write(gene_id+\"\\n\")\n",
    "                associations_file.write(gene_id + \"\\t\")\n",
    "                counter = 0\n",
    "                gos = curvibacter_genes_df[curvibacter_genes_df[\"gene_id\"] == gene_id].GO.values[0].split(\",\")\n",
    "                for go_id in gos:\n",
    "                    \n",
    "                    if counter != len(gos)-1:\n",
    "                        associations_file.write(go_id+\";\")\n",
    "                    else:\n",
    "                        associations_file.write(go_id+\"\\n\")\n",
    "                    counter += 1"
   ]
  },
  {
   "cell_type": "code",
   "execution_count": null,
   "id": "eca183f3",
   "metadata": {},
   "outputs": [],
   "source": [
    "# writing sample files for up/down regulated genes\n",
    "go_files = []\n",
    "for df in dataframes:\n",
    "    print(\"[+] Working with: {}\".format(df))\n",
    "    log2folddf = pd.read_csv(df)\n",
    "    log2folddf.columns = [\"gene_id\",\"baseMean\",\"log2FoldChange\",\"lfcSE\",\"stat\",\"pvalue\",\"padj\"]\n",
    "    log2folddf = log2folddf[log2folddf[\"padj\"] <= 0.05]\n",
    "    downregulated_genes = log2folddf[log2folddf[\"log2FoldChange\"] <= -1.0]\n",
    "    upregulated_genes = log2folddf[log2folddf[\"log2FoldChange\"] >= 1.0]\n",
    "\n",
    "    downregulated_genes = downregulated_genes[downregulated_genes[\"gene_id\"].isin(go_gene_ids)]\n",
    "    upregulated_genes = upregulated_genes[upregulated_genes[\"gene_id\"].isin(go_gene_ids)]\n",
    "    \n",
    "    \n",
    "    print(\"\\t[*] Length of downregulated genes: {}\".format(len(downregulated_genes)))\n",
    "    print(\"\\t[*] Length of upregulated genes: {}\".format(len(upregulated_genes)))\n",
    "    \n",
    "    sample = df.split(\"/\")[-1].split(\".CSV\")[0] \n",
    "    sample_up = result_path + sample + \"_upregulated_genes_goatools.txt\"\n",
    "    sample_down = result_path + sample + \"_downregulated_genes_goatools.txt\"\n",
    "    \n",
    "    if len(downregulated_genes) > 5:\n",
    "        go_files.append(sample_down)\n",
    "        with open(sample_down, \"w\") as goadown:\n",
    "            for gene_id in downregulated_genes[\"gene_id\"]:\n",
    "                goadown.write(gene_id+\"\\n\")\n",
    "    if len(upregulated_genes) > 5:\n",
    "        go_files.append(sample_up)\n",
    "        with open(sample_up, \"w\") as goaup:\n",
    "            for gene_id in upregulated_genes[\"gene_id\"]:\n",
    "                goaup.write(gene_id+\"\\n\")"
   ]
  },
  {
   "cell_type": "code",
   "execution_count": null,
   "id": "ec1584cb",
   "metadata": {},
   "outputs": [],
   "source": [
    "goafiles = []\n",
    "for samplefile in go_files:\n",
    "    print(\"[+] Working with {}\".format(samplefile))\n",
    "    outfile = result_path + samplefile.split(\"/\")[-1].split(\".txt\")[0] + \"_output.table\"\n",
    "    \n",
    "    !find_enrichment.py $samplefile ../../results/gene_enrichment_analysis/goatools/populations.txt ../../results/gene_enrichment_analysis/goatools/associations.txt --annofmt id2gos --alpha 0.05 --pval 0.05 --obo ../../results/gene_enrichment_analysis/goatools/go-basic.obo --method fdr_bh --outfile $outfile --obsolete replace > /dev/null\n",
    "    \n",
    "    goafiles.append(outfile)\n",
    "    print(\"[*] DONE\")"
   ]
  },
  {
   "cell_type": "code",
   "execution_count": null,
   "id": "d519b40d",
   "metadata": {},
   "outputs": [],
   "source": [
    "def plot_goa(goafile_enriched:pd.DataFrame,savep:str, filename:str):\n",
    "    print(\"[*] Producing plot for {}\".format(filename))\n",
    "    goafile_enriched[\"ratio_stud\"] = goafile_enriched.ratio_in_study.apply(lambda x: int(x.split(\"/\")[0])/int(x.split(\"/\")[1]))\n",
    "    goafile_enriched[\"ratio_pop\"] = goafile_enriched.ratio_in_pop.apply(lambda x: int(x.split(\"/\")[0])/int(x.split(\"/\")[1]))\n",
    "    goafile_enriched[\"amount_in_pop\"] = goafile_enriched.ratio_in_pop.apply(lambda x: int(x.split(\"/\")[0]))\n",
    "    \n",
    "    categorical_indices = []\n",
    "    categories = []\n",
    "    for index, cat in enumerate(list(goafile_enriched.name)):\n",
    "        if len(cat) >= 30:\n",
    "            cat = textwrap.fill(cat, width=30)\n",
    "            categorical_indices.append(index)\n",
    "        categories.append(cat)\n",
    "        \n",
    "    values = list(goafile_enriched.study_count)\n",
    "    scatter_values = np.array(goafile_enriched.study_count) / np.array(goafile_enriched.amount_in_pop)\n",
    "    \n",
    "    pcolors = goafile_enriched.p_fdr_bh\n",
    "    norm_p_values = np.array(pcolors) / max(pcolors)\n",
    "    colors=plt.cm.RdBu_r(norm_p_values)\n",
    "    \n",
    "    \n",
    "    # Create figure and axes\n",
    "    if len(goafile_enriched) == 30:\n",
    "        fsize = (20,18)\n",
    "    elif len(goafile_enriched) >= 15:\n",
    "        fsize = (16,12)\n",
    "    else:\n",
    "        fsize = (12,8)\n",
    "        \n",
    "    fig, (ax1, ax2) = plt.subplots(1, 2, figsize=(20, 16), sharey=True)\n",
    "\n",
    "    # Plot horizontal bar plot on ax1\n",
    "    ax1.barh(categories, values, color=colors, edgecolor=\"black\")\n",
    "\n",
    "    ax1.set_xlabel('Count', fontsize=15, labelpad=20)\n",
    "    ax1.tick_params(axis='y', labelsize=15) \n",
    "    ax1.tick_params(axis='x', labelsize=15) \n",
    "    \n",
    "    \n",
    "    # Accessing tick labels\n",
    "    tick_labels = ax1.get_yticklabels()\n",
    "\n",
    "    # Specify indices of labels to make bold (e.g., 1 and 3 in this example)\n",
    "\n",
    "    # Update tick labels with LaTeX formatting for bold\n",
    "    for i, label in enumerate(tick_labels):\n",
    "        if i in categorical_indices:\n",
    "            #label.set_fontweight('bold')\n",
    "            label.set_fontsize(10)  # Optional: Adjust font size if needed\n",
    "            #label.set_color('blue')  # Optional: Adjust font color if needed\n",
    "            # Use LaTeX for bold formatting\n",
    "            #label.set_text(r'\\textbf{' + label.get_text() + r'}')\n",
    "    \n",
    "    \n",
    "    ax2.scatter(scatter_values, categories, c=colors, cmap='RdBu_r', \n",
    "                label='Gene Ratio (compared to Study)', s=list(goafile_enriched.ratio_stud*1000),edgecolor=\"black\")\n",
    "\n",
    "    ax2.set_xlabel('Count in Study / Count in Pop', fontsize=15, labelpad=20)\n",
    "    \n",
    "    ax2.tick_params(axis='x', labelsize=15) \n",
    "    #ax1.set_ylabel('GO Categories')\n",
    "    ax1.invert_yaxis()\n",
    "    plt.subplots_adjust(left=0.2, wspace=0.1)\n",
    "    cbar = fig.colorbar(ScalarMappable(cmap='RdBu_r'), ax=[ax1, ax2], pad = 0.005)\n",
    "    cbar.set_label('p-values',fontsize=15, labelpad=20)\n",
    "    cbar.set_ticks([min(norm_p_values), max(norm_p_values)])\n",
    "    cbar.set_ticklabels([f'{min(goafile_enriched.p_fdr_bh):.4f}', f'{max(goafile_enriched.p_fdr_bh):.4f}'])\n",
    "    cbar.ax.tick_params(labelsize=12)\n",
    "\n",
    "    cbar.ax.set_position([0.85, 0.15, 0.03, 0.7])\n",
    "    \n",
    "    #plt.show()\n",
    "    plt.savefig(savep + filename + \".jpg\", dpi=400)\n",
    "    plt.close()\n",
    "    print(\"[*] DONE\")"
   ]
  },
  {
   "cell_type": "code",
   "execution_count": null,
   "id": "e7e218f7",
   "metadata": {},
   "outputs": [],
   "source": [
    "for goafile in goafiles:\n",
    "    if isfile(goafile):\n",
    "        goafigure = goafile.split(\"/\")[-1].split(\"_goatools_output.table\")[0]\n",
    "        dataframe = pd.read_table(goafile)\n",
    "        plot_goa(dataframe, result_path, goafigure)"
   ]
  },
  {
   "cell_type": "markdown",
   "id": "4f6511e2",
   "metadata": {},
   "source": [
    "# Goatools on symbiotic protein ids"
   ]
  },
  {
   "cell_type": "code",
   "execution_count": null,
   "id": "c0d7ca66",
   "metadata": {},
   "outputs": [],
   "source": [
    "translation_table = pd.read_table(\"../../data/curvibacter_annotation_files/translation_table_corrected.csv\")\n",
    "translation_table.head()"
   ]
  },
  {
   "cell_type": "code",
   "execution_count": null,
   "id": "e2d84aa2",
   "metadata": {},
   "outputs": [],
   "source": [
    "log2Fold_df = pd.read_csv('../../results/rsem/liquid_mono_culture_orgint_vs_metatranscriptome.CSV')\n",
    "#log2Fold_df = pd.read_csv('../../results/rsem/liquid_mono_culture_kiel_vs_hydra_mono_culture_kiel.csv')\n",
    "log2Fold_df.columns = [\"old_locus_tag\",\"baseMean\",\"log2FoldChange\",\"lfcSE\",\"stat\",\"pvalue\",\"padj\"]\n",
    "log2Fold_df.head()"
   ]
  },
  {
   "cell_type": "code",
   "execution_count": null,
   "id": "b492e068",
   "metadata": {},
   "outputs": [],
   "source": [
    "log2Fold_df = log2Fold_df[log2Fold_df[\"padj\"] <= 0.05]\n",
    "print(len(log2Fold_df))"
   ]
  },
  {
   "cell_type": "code",
   "execution_count": null,
   "id": "132cc597",
   "metadata": {},
   "outputs": [],
   "source": [
    "symbiotic_protein_ids = pd.read_csv(\"../../data/symbiotic_wps/caep_symbiotic_wps.txt\", header=None)\n",
    "symbiotic_protein_ids.columns = [\"protein_id\"]\n",
    "merged_table = translation_table.merge(symbiotic_protein_ids, on=\"protein_id\")\n",
    "merged_table[\"old_locus_tag\"] = merged_table[\"old_locus_tag\"].apply(lambda x: \"gene:\"+x)"
   ]
  },
  {
   "cell_type": "code",
   "execution_count": null,
   "id": "e2c44a72",
   "metadata": {},
   "outputs": [],
   "source": [
    "curvibacter_specific_protein_ids = pd.read_csv(\"../../data/symbiotic_wps/caep_specific_wps.txt\", header=None)\n",
    "curvibacter_specific_protein_ids.columns = [\"protein_id\"]\n",
    "specific_merged_table = translation_table.merge(curvibacter_specific_protein_ids, on=\"protein_id\")\n",
    "specific_merged_table[\"old_locus_tag\"] = specific_merged_table[\"old_locus_tag\"].apply(lambda x: \"gene:\"+x)"
   ]
  },
  {
   "cell_type": "code",
   "execution_count": null,
   "id": "e16d3ef4",
   "metadata": {},
   "outputs": [],
   "source": [
    "pop_ids = []\n",
    "with open(\"../../results/gene_enrichment_analysis/goatools/populations.txt\",\"r\") as populationfile:\n",
    "    for line in populationfile:\n",
    "        pop_ids.append(line.strip())"
   ]
  },
  {
   "cell_type": "code",
   "execution_count": null,
   "id": "f0c7bb14",
   "metadata": {},
   "outputs": [],
   "source": [
    "with open(\"../../data/symbiotic_wps/go_gene_id_aep_specific_goatools.txt\", \"w\") as goatools:\n",
    "    for gene in specific_merged_table[specific_merged_table[\"old_locus_tag\"].isin(pop_ids) == True][\"old_locus_tag\"]:\n",
    "        goatools.write(gene.strip()+\"\\n\")"
   ]
  },
  {
   "cell_type": "code",
   "execution_count": null,
   "id": "301e5217",
   "metadata": {},
   "outputs": [],
   "source": [
    "!find_enrichment.py ../../data/symbiotic_wps/go_gene_id_goatools.txt ../../results/gene_enrichment_analysis/goatools/populations.txt ../../results/gene_enrichment_analysis/goatools/associations.txt --annofmt id2gos --alpha 0.05 --pval 0.05 --obo ../../results/gene_enrichment_analysis/goatools/go-basic.obo --method fdr_bh --outfile ../../results/gene_enrichment_analysis/symbiotic_genes/symbiotic_proteins_enrichment.txt --obsolete replace > /dev/null"
   ]
  },
  {
   "cell_type": "code",
   "execution_count": null,
   "id": "3b964e16",
   "metadata": {},
   "outputs": [],
   "source": [
    "!find_enrichment.py ../../data/symbiotic_wps/go_gene_id_aep_specific_goatools.txt ../../results/gene_enrichment_analysis/goatools/populations.txt ../../results/gene_enrichment_analysis/goatools/associations.txt --annofmt id2gos --alpha 0.05 --pval 0.05 --obo ../../results/gene_enrichment_analysis/goatools/go-basic.obo --method fdr_bh --outfile ../../results/gene_enrichment_analysis/symbiotic_genes/caep_specific_proteins_enrichment.txt --obsolete replace > /dev/null"
   ]
  },
  {
   "cell_type": "code",
   "execution_count": null,
   "id": "fc0da355",
   "metadata": {},
   "outputs": [],
   "source": [
    "dataframe = pd.read_table(\"../../results/gene_enrichment_analysis/symbiotic_genes/symbiotic_proteins_enrichment.txt\")\n",
    "plot_goa(dataframe, \"../../results/gene_enrichment_analysis/symbiotic_genes/\", \"symbiotic_proteins\")"
   ]
  },
  {
   "cell_type": "code",
   "execution_count": null,
   "id": "03d296da",
   "metadata": {},
   "outputs": [],
   "source": [
    "dataframe = pd.read_table(\"../../results/gene_enrichment_analysis/symbiotic_genes/caep_specific_proteins_enrichment.txt\")\n",
    "plot_goa(dataframe, \"../../results/gene_enrichment_analysis/symbiotic_genes/\", \"caep_specific_proteins\")"
   ]
  },
  {
   "cell_type": "markdown",
   "id": "f2a770e1",
   "metadata": {},
   "source": [
    "# Up/Down regulated symbiotic proteins"
   ]
  },
  {
   "cell_type": "code",
   "execution_count": null,
   "id": "798816f4",
   "metadata": {},
   "outputs": [],
   "source": [
    "log2FoldChange_table = merged_table.merge(log2Fold_df, on=\"old_locus_tag\")\n",
    "upregulated = log2FoldChange_table[log2FoldChange_table.log2FoldChange <= -1.0]\n",
    "downregulated = log2FoldChange_table[log2FoldChange_table.log2FoldChange >= 1.0]\n",
    "unregulated = log2FoldChange_table[abs(log2FoldChange_table.log2FoldChange)<1.0]"
   ]
  },
  {
   "cell_type": "code",
   "execution_count": null,
   "id": "4b411e10",
   "metadata": {},
   "outputs": [],
   "source": [
    "with open(\"../../data/symbiotic_wps/go_gene_id_upregulated_on_host_goatools.txt\", \"w\") as goatools:\n",
    "    for gene in upregulated[upregulated[\"old_locus_tag\"].isin(pop_ids) == True][\"old_locus_tag\"]:\n",
    "        goatools.write(gene.strip()+\"\\n\")"
   ]
  },
  {
   "cell_type": "code",
   "execution_count": null,
   "id": "e2b930af",
   "metadata": {},
   "outputs": [],
   "source": [
    "!find_enrichment.py ../../data/symbiotic_wps/go_gene_id_upregulated_on_host_goatools.txt ../../results/gene_enrichment_analysis/goatools/populations.txt ../../results/gene_enrichment_analysis/goatools/associations.txt --annofmt id2gos --alpha 0.05 --pval 0.05 --obo ../../results/gene_enrichment_analysis/goatools/go-basic.obo --method fdr_bh --outfile ../../results/gene_enrichment_analysis/symbiotic_genes/symbiotic_proteins_upregulated_on_host_enrichment.txt --obsolete replace > /dev/null"
   ]
  },
  {
   "cell_type": "code",
   "execution_count": null,
   "id": "71ff9b43",
   "metadata": {},
   "outputs": [],
   "source": [
    "dataframe = pd.read_table(\"../../results/gene_enrichment_analysis/symbiotic_genes/symbiotic_proteins_upregulated_on_host_enrichment.txt\")\n",
    "plot_goa(dataframe, \"../../results/gene_enrichment_analysis/symbiotic_genes/\", \"symbiotic_upregulated_proteins\")"
   ]
  },
  {
   "cell_type": "code",
   "execution_count": null,
   "id": "74979d04",
   "metadata": {},
   "outputs": [],
   "source": [
    "significant_proteins = []\n",
    "for item in dataframe.study_items:\n",
    "    for protein in item.split(\",\"):\n",
    "        \n",
    "        protein = protein.strip()\n",
    "        \n",
    "        if protein not in significant_proteins:\n",
    "            significant_proteins.append(protein)\n",
    "enriched_upregulated = log2FoldChange_table[log2FoldChange_table[\"old_locus_tag\"].isin(significant_proteins)]"
   ]
  },
  {
   "cell_type": "code",
   "execution_count": null,
   "id": "2991783b",
   "metadata": {},
   "outputs": [],
   "source": [
    "annotations = pd.read_csv(\"../../results/curvibacter_genome_annotation.csv\", index_col=0)\n",
    "annotations.rename(columns={\"wp_number\":\"protein_id\"}, inplace=True)\n",
    "annotations.head()"
   ]
  },
  {
   "cell_type": "code",
   "execution_count": null,
   "id": "4dde5bb8",
   "metadata": {},
   "outputs": [],
   "source": [
    "annotations.merge(enriched_upregulated, on=\"protein_id\")[[\"protein_id\",\"description\", \"log2FoldChange\", \"GO\",\"GO_process\"]].sort_values(by=\"log2FoldChange\")"
   ]
  },
  {
   "cell_type": "code",
   "execution_count": null,
   "id": "cd61134a",
   "metadata": {},
   "outputs": [],
   "source": [
    "counts = []\n",
    "pvals = []\n",
    "counts_pop = []\n",
    "labels = []\n",
    "ratio = []\n",
    "\n",
    "for count, pval, count_pop, label, go in zip(dataframe[\"study_count\"],\n",
    "                                             dataframe[\"p_fdr_bh\"],\n",
    "                                             dataframe[\"amount_in_pop\"],\n",
    "                                             dataframe[\"name\"],\n",
    "                                             dataframe[\"# GO\"]):\n",
    "    \n",
    "    labels.append(go + \" \" + label)\n",
    "    counts.append(count)\n",
    "    pvals.append(pval)\n",
    "    counts_pop.append(count_pop)\n",
    "    ratio.append(count/count_pop)\n",
    "    #print(count, pval, count_pop,label, go)\n",
    "\n",
    "marker_size = ratio\n",
    "pcolors = pvals\n",
    "norm_p_values = np.array(pcolors) / max(pcolors)\n",
    "colors=plt.cm.RdBu_r(norm_p_values)\n",
    "marker_legend = marker_size\n",
    "marker_legend = sorted(marker_legend, reverse=True)\n",
    "sorted_markersize = sorted(np.array(marker_legend)*10000, reverse=True)\n",
    "sorted_markers = sorted(marker_legend, reverse=True)"
   ]
  },
  {
   "cell_type": "code",
   "execution_count": null,
   "id": "a1e359a0",
   "metadata": {},
   "outputs": [],
   "source": [
    "fig, (ax1, ax2, ax3) = plt.subplots(1, 3, figsize=(18, 10), sharey=False, gridspec_kw={'width_ratios': [2.5, 2.0, 1]})\n",
    "\n",
    "ax1.sharey(ax2)\n",
    "\n",
    "ax1.barh(labels,width=counts, color=colors, edgecolor=\"black\")\n",
    "ax2.scatter(y=[0,1,2,3,4], x=ratio, s=np.array(marker_size)*10000, c=colors, cmap='RdBu_r', edgecolors=\"black\")\n",
    "\n",
    "ax1.set_xlim(0,25)\n",
    "#ax1.set_xticklabels(fontsize=16)\n",
    "ax1.set_xticks([0,5,10,15,20])\n",
    "ax1.set_xticklabels([0,5,10,15,20], fontsize=20)\n",
    "ax1.set_yticks([0,1,2,3,4])\n",
    "ax1.set_yticklabels(labels, fontsize=20, fontdict={'fontweight':\"bold\"})\n",
    "ax1.set_xlabel(\"Count\", fontsize=20, labelpad=20,  fontdict={'fontweight':\"bold\"})\n",
    "ax1.grid()\n",
    "\n",
    "ax2.set_xlim(-0.2,1.2)\n",
    "ax2.set_xticks([0.0,0.25,0.5,0.75,1.0])\n",
    "ax2.set_xticklabels([0.0,0.25,0.5,0.75,1.0], fontsize=20)\n",
    "ax2.set_xlabel(\"Count/ClusterSize\", fontsize=20, labelpad=20,  fontdict={'fontweight':\"bold\"})\n",
    "ax2.tick_params(axis='y', labelleft=False)\n",
    "ax2.grid()\n",
    "\n",
    "plt.subplots_adjust(left=0.2, wspace=0.05)\n",
    "\n",
    "cbar = fig.colorbar(ScalarMappable(cmap='RdBu_r'), ax=[ax1, ax2], pad = 0.005)\n",
    "cbar.set_label('p-values',fontsize=20, labelpad=0)\n",
    "cbar.set_ticks([0, 1])\n",
    "cbar.set_ticklabels([f'{0:.2f}', f'{max(pvals):.2f}'])\n",
    "cbar.ax.tick_params(labelsize=20)\n",
    "\n",
    "cbar.ax.set_position([0.71, 0.12, 0.03, 0.35])\n",
    "\n",
    "ax3.set_position([0.71, 0.52, 0.05, 0.315])\n",
    "ax3.scatter(x=[0.5 for i in labels], y=[0.5,2,3,4,5], s=sorted_markersize, color=\"grey\", edgecolor=\"black\")\n",
    "ax3.set_yticks([0.5,2,3,4,5])\n",
    "ax3.set_yticklabels(counts_pop, fontsize=20)\n",
    "ax3.set_xlim(0,1)\n",
    "ax3.set_ylim(-1,6)\n",
    "ax3.tick_params(axis='y', labelright=True, labelleft=False)\n",
    "ax3.tick_params(axis='x', labelbottom=False)\n",
    "ax3.set_xticks([])\n",
    "ax3.yaxis.tick_right()   \n",
    "ax3.set_title(\"Count\", pad=10, fontsize=20)\n",
    "#ax3.grid()\n",
    "#ax3.axis(\"off\")\n",
    "plt.savefig(\"../../results/gene_enrichment_analysis/up_symbiotic_combined.jpg\", dpi=400, bbox_inches='tight')\n",
    "#plt.tight_layout()"
   ]
  },
  {
   "cell_type": "code",
   "execution_count": null,
   "id": "65ec17a8",
   "metadata": {},
   "outputs": [],
   "source": [
    "new_labels = ['GO:0008643 carbohydrate transport','GO:0051179 localization and transport','GO:0008152 metabolic process']\n",
    "new_counts = [5,15,5]\n",
    "new_ratio = [0.25, (0.05813953488372093 +0.05747126436781609+0.056818181818181816)/3,0.006112469437652812]\n",
    "new_marker_size = new_ratio\n",
    "new_counts_pop = [20,int((258+261+264)/3),818]\n",
    "new_pvals = [0.0441145001987955,0.0441765749751197,0.0441145001987955]\n",
    "\n",
    "\n",
    "new_pcolors = new_pvals\n",
    "new_norm_p_values = np.array(new_pcolors) / max(new_pcolors)\n",
    "new_colors=plt.cm.RdBu_r(new_norm_p_values)\n",
    "new_marker_legend = new_marker_size\n",
    "new_marker_legend = sorted(new_marker_legend, reverse=True)\n",
    "new_sorted_markersize = sorted(np.array(new_marker_legend)*10000, reverse=True)\n",
    "new_sorted_markers = sorted(new_marker_legend, reverse=True)"
   ]
  },
  {
   "cell_type": "code",
   "execution_count": null,
   "id": "73ab6b3e",
   "metadata": {},
   "outputs": [],
   "source": [
    "fig, (ax1, ax2, ax3) = plt.subplots(1, 3, figsize=(18, 10), sharey=False, gridspec_kw={'width_ratios': [2.5, 2.0, 1]})\n",
    "\n",
    "ax1.sharey(ax2)\n",
    "\n",
    "ax1.barh(new_labels,width=new_counts, color=new_colors, edgecolor=\"black\")\n",
    "ax2.scatter(y=[0,1,2], x=new_ratio, s=np.array(new_marker_size)*10000, c=new_colors, cmap='RdBu_r', edgecolors=\"black\")\n",
    "\n",
    "ax1.set_xlim(0,25)\n",
    "#ax1.set_xticklabels(fontsize=16)\n",
    "ax1.set_xticks([0,5,10,15,20,25])\n",
    "ax1.set_xticklabels([0,5,10,15,20,25], fontsize=20)\n",
    "ax1.set_yticks([0,1,2])\n",
    "ax1.set_yticklabels(new_labels, fontsize=20, fontdict={'fontweight':\"bold\"})\n",
    "ax1.set_xlabel(\"Count\", fontsize=20, labelpad=20,  fontdict={'fontweight':\"bold\"})\n",
    "ax1.grid()\n",
    "\n",
    "ax2.set_xlim(-0.2,1.2)\n",
    "ax2.set_xticks([0.0,0.25,0.5,0.75,1.0])\n",
    "ax2.set_xticklabels([0.0,0.25,0.5,0.75,1.0], fontsize=20)\n",
    "ax2.set_xlabel(\"Count/ClusterSize\", fontsize=20, labelpad=20,  fontdict={'fontweight':\"bold\"})\n",
    "ax2.tick_params(axis='y', labelleft=False)\n",
    "ax2.grid()\n",
    "\n",
    "plt.subplots_adjust(left=0.2, wspace=0.05)\n",
    "\n",
    "cbar = fig.colorbar(ScalarMappable(cmap='RdBu_r'), ax=[ax1, ax2], pad = 0.005)\n",
    "cbar.set_label('p-values',fontsize=20, labelpad=0)\n",
    "cbar.set_ticks([0, 1])\n",
    "cbar.set_ticklabels([f'{0:.2f}', f'{max(new_pvals):.2f}'])\n",
    "cbar.ax.tick_params(labelsize=20)\n",
    "\n",
    "cbar.ax.set_position([0.71, 0.12, 0.03, 0.35])\n",
    "\n",
    "ax3.set_position([0.71, 0.52, 0.05, 0.315])\n",
    "ax3.scatter(x=[0.5 for i in new_labels], y=[0.5,2,3], s=new_sorted_markersize, color=\"grey\", edgecolor=\"black\")\n",
    "ax3.set_yticks([0.5,2,3])\n",
    "ax3.set_yticklabels(new_counts_pop, fontsize=20)\n",
    "ax3.set_xlim(0,1)\n",
    "ax3.set_ylim(-1,4)\n",
    "ax3.tick_params(axis='y', labelright=True, labelleft=False)\n",
    "ax3.tick_params(axis='x', labelbottom=False)\n",
    "ax3.set_xticks([])\n",
    "ax3.yaxis.tick_right()   \n",
    "ax3.set_title(\"Count\", pad=10, fontsize=20)\n",
    "#ax3.grid()\n",
    "#ax3.axis(\"off\")\n",
    "plt.savefig(\"../../results/gene_enrichment_analysis/up_symbiotic_comprehensive_combined.jpg\", dpi=400, bbox_inches='tight')\n",
    "#plt.tight_layout()"
   ]
  },
  {
   "cell_type": "code",
   "execution_count": null,
   "id": "01dafdc7",
   "metadata": {},
   "outputs": [],
   "source": [
    "with open(\"../../data/symbiotic_wps/go_gene_id_downregulated_on_host_goatools.txt\", \"w\") as goatools:\n",
    "    for gene in downregulated[downregulated[\"old_locus_tag\"].isin(pop_ids) == True][\"old_locus_tag\"]:\n",
    "        goatools.write(gene.strip()+\"\\n\")"
   ]
  },
  {
   "cell_type": "code",
   "execution_count": null,
   "id": "f149dd0f",
   "metadata": {},
   "outputs": [],
   "source": [
    "!find_enrichment.py ../../data/symbiotic_wps/go_gene_id_downregulated_on_host_goatools.txt ../../results/gene_enrichment_analysis/goatools/populations.txt ../../results/gene_enrichment_analysis/goatools/associations.txt --annofmt id2gos --alpha 0.05 --pval 0.05 --obo ../../results/gene_enrichment_analysis/goatools/go-basic.obo --method fdr_bh --outfile ../../results/gene_enrichment_analysis/symbiotic_genes/symbiotic_proteins_downregulated_on_host_enrichment.txt --obsolete replace"
   ]
  },
  {
   "cell_type": "code",
   "execution_count": null,
   "id": "a5b5b1b8",
   "metadata": {},
   "outputs": [],
   "source": [
    "#dataframe = pd.read_table(\"../../results/gene_enrichment_analysis/symbiotic_genes/symbiotic_proteins_downregulated_on_host_enrichment.txt\")\n",
    "#plot_goa(dataframe, \"../../results/gene_enrichment_analysis/symbiotic_genes/\", \"symbiotic_downregulated_proteins\")"
   ]
  },
  {
   "cell_type": "code",
   "execution_count": null,
   "id": "c4b21dfd",
   "metadata": {},
   "outputs": [],
   "source": [
    "with open(\"../../data/symbiotic_wps/go_gene_id_unregulated_on_host_goatools.txt\", \"w\") as goatools:\n",
    "    for gene in unregulated[unregulated[\"old_locus_tag\"].isin(pop_ids) == True][\"old_locus_tag\"]:\n",
    "        goatools.write(gene.strip()+\"\\n\")"
   ]
  },
  {
   "cell_type": "code",
   "execution_count": null,
   "id": "d195b635",
   "metadata": {},
   "outputs": [],
   "source": [
    "!find_enrichment.py ../../data/symbiotic_wps/go_gene_id_unregulated_on_host_goatools.txt ../../results/gene_enrichment_analysis/goatools/populations.txt ../../results/gene_enrichment_analysis/goatools/associations.txt --annofmt id2gos --alpha 0.05 --pval 0.05 --obo ../../results/gene_enrichment_analysis/goatools/go-basic.obo --method fdr_bh --outfile ../../results/gene_enrichment_analysis/symbiotic_genes/symbiotic_proteins_unregulated_on_host_enrichment.txt --obsolete replace"
   ]
  },
  {
   "cell_type": "code",
   "execution_count": null,
   "id": "cc0b8f70",
   "metadata": {},
   "outputs": [],
   "source": [
    "#dataframe = pd.read_table(\"../../results/gene_enrichment_analysis/symbiotic_genes/symbiotic_proteins_unregulated_on_host_enrichment.txt\")\n",
    "#plot_goa(dataframe, \"../../results/gene_enrichment_analysis/symbiotic_genes/\", \"symbiotic_downregulated_proteins\")"
   ]
  },
  {
   "cell_type": "code",
   "execution_count": null,
   "id": "9c1cb60a",
   "metadata": {},
   "outputs": [],
   "source": [
    "merged_table.to_csv(\"../../results/gene_enrichment_analysis/symbiotic_genes/merged_translation_table.csv\")"
   ]
  }
 ],
 "metadata": {
  "kernelspec": {
   "display_name": "Python 3 (ipykernel)",
   "language": "python",
   "name": "python3"
  },
  "language_info": {
   "codemirror_mode": {
    "name": "ipython",
    "version": 3
   },
   "file_extension": ".py",
   "mimetype": "text/x-python",
   "name": "python",
   "nbconvert_exporter": "python",
   "pygments_lexer": "ipython3",
   "version": "3.8.11"
  }
 },
 "nbformat": 4,
 "nbformat_minor": 5
}
