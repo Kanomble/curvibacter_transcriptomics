{
 "cells": [
  {
   "cell_type": "code",
   "execution_count": null,
   "id": "b9cdfb83",
   "metadata": {},
   "outputs": [],
   "source": [
    "import pandas as pd\n",
    "import numpy as np\n",
    "import matplotlib.pyplot as plt\n",
    "import os"
   ]
  },
  {
   "cell_type": "code",
   "execution_count": null,
   "id": "a3effe45",
   "metadata": {},
   "outputs": [],
   "source": [
    "deseq2_table_path = \"../../results/rsem/\"\n",
    "files = [] \n",
    "for file in os.listdir(deseq2_table_path):\n",
    "    if file.endswith(\".csv\"):\n",
    "        files.append(deseq2_table_path + file)"
   ]
  },
  {
   "cell_type": "markdown",
   "id": "e7133642",
   "metadata": {},
   "source": [
    "# Curvibacter genome file parsing for WP to AEP conversion and transcript descriptions"
   ]
  },
  {
   "cell_type": "code",
   "execution_count": null,
   "id": "977e9301",
   "metadata": {},
   "outputs": [],
   "source": [
    "gff = pd.read_table(\"../../data/curvibacter_genome/GCF_002163715.1_ASM216371v1_genomic.gff\", delimiter=\"\\t\", skiprows=9, header=None)"
   ]
  },
  {
   "cell_type": "code",
   "execution_count": null,
   "id": "445aa0fe",
   "metadata": {},
   "outputs": [],
   "source": [
    "gff.head()"
   ]
  },
  {
   "cell_type": "code",
   "execution_count": null,
   "id": "90ea87a9",
   "metadata": {},
   "outputs": [],
   "source": [
    "columns = [\"seqname\",\"source\",\"feature\",\"start\",\"end\",\"score\",\"strand\",\"frame\",\"attribute\"]\n",
    "gff.columns = columns\n",
    "gff = gff.dropna()\n",
    "gff.head()"
   ]
  },
  {
   "cell_type": "code",
   "execution_count": null,
   "id": "4e29ae56",
   "metadata": {},
   "outputs": [],
   "source": [
    "# fill lists with genomic information\n",
    "locus_tag = []\n",
    "wp_number = []\n",
    "description = []\n",
    "ontology_terms = []\n",
    "ontology_process = []\n",
    "for feature,transcript in zip(gff.feature,gff.attribute):\n",
    "    if feature == 'CDS':\n",
    "        tmp = transcript.split(\";\")\n",
    "        switch_go = 0\n",
    "        switch_process = 0\n",
    "        for att in tmp:\n",
    "\n",
    "            if att.startswith(\"ID\"):\n",
    "                wp_number.append(att.split(\"cds-\")[1])\n",
    "            elif att.startswith(\"Parent\"):\n",
    "                locus_tag.append(att.split(\"=gene-\")[1])\n",
    "            elif att.startswith(\"product=\"):\n",
    "                description.append(att.split(\"=\")[1])\n",
    "            \n",
    "            elif att.startswith(\"Ontology_term=\"):\n",
    "                ontology_terms.append(att.split(\"Ontology_term=\")[1])\n",
    "                switch_go = 1\n",
    "            elif att.startswith(\"go_process=\"):\n",
    "                ontology_process.append(att.split(\"go_process=\")[1])\n",
    "                switch_process = 1\n",
    "                \n",
    "        if switch_go == 0:\n",
    "            ontology_terms.append(\"unknown\")\n",
    "        if switch_process == 0:\n",
    "            ontology_process.append(\"unknown\")\n",
    "\n",
    "            \n",
    "old_locus_tag = []\n",
    "for tag in locus_tag:\n",
    "    tag_switch = 0\n",
    "    for feature,transcript in zip(gff.feature,gff.attribute):\n",
    "        if feature == 'gene':\n",
    "            switch = 0\n",
    "            tmp = transcript.split(\";\")\n",
    "            for att in tmp:\n",
    "                if att.startswith('locus_tag='):\n",
    "                    tmp_tag = att.split(\"locus_tag=\")[1]\n",
    "                    if tmp_tag == tag:\n",
    "                        switch = 1\n",
    "                        \n",
    "            if switch == 1:\n",
    "                for att in tmp:\n",
    "                    if att.startswith('old_locus_tag'):\n",
    "                        tmp_tag = att.split(\"old_locus_tag=\")[1]\n",
    "                        old_locus_tag.append(tmp_tag)\n",
    "                        tag_switch = 1\n",
    "    if tag_switch == 0:\n",
    "        old_locus_tag.append(\"unknown\")"
   ]
  },
  {
   "cell_type": "code",
   "execution_count": null,
   "id": "b7a767c8",
   "metadata": {},
   "outputs": [],
   "source": [
    "data_columns = [locus_tag,old_locus_tag,wp_number,description,ontology_terms,ontology_process]\n",
    "curvibacter_genes_df = pd.DataFrame(data_columns).transpose()\n",
    "curvibacter_genes_df.columns = ['locus_tag','gene_id','wp_number','description','GO','GO_process']\n",
    "curvibacter_genes_df.head()"
   ]
  },
  {
   "cell_type": "code",
   "execution_count": null,
   "id": "c1c37196",
   "metadata": {},
   "outputs": [],
   "source": [
    "curvibacter_genes_df[curvibacter_genes_df.description.str.contains(\"ribosome\") | curvibacter_genes_df.description.str.contains(\"tRNA\")]            "
   ]
  },
  {
   "cell_type": "code",
   "execution_count": null,
   "id": "8bcc7237",
   "metadata": {},
   "outputs": [],
   "source": [
    "curvibacter_genes_df.to_csv(\"../../results/curvibacter_genome_annotation.csv\")"
   ]
  },
  {
   "cell_type": "markdown",
   "id": "f15760e8",
   "metadata": {},
   "source": [
    "# Combining Tanscriptomic Data Into One DataFrame"
   ]
  },
  {
   "cell_type": "code",
   "execution_count": null,
   "id": "6e37d684",
   "metadata": {},
   "outputs": [],
   "source": [
    "new_cols = ['gene_id','baseMean','log2FoldChange','lfcSE','stat','pvalue','padj']\n",
    "dataframes = []\n",
    "for file in files:\n",
    "    df = pd.read_csv(file)\n",
    "    df.columns = new_cols\n",
    "    df.gene_id = df.gene_id.apply(lambda x: x.split(\"gene:\")[1])\n",
    "    #print(file, len(df))\n",
    "    filename = file.split(\"/\")[-1]\n",
    "    filename = filename.split(\".\")[0]\n",
    "    df = df[['gene_id','log2FoldChange','padj']]\n",
    "    cols = ['gene_id','log2FoldChange_'+filename,'padj_'+filename]\n",
    "    df.columns = cols\n",
    "    dataframes.append(df)"
   ]
  },
  {
   "cell_type": "code",
   "execution_count": null,
   "id": "3148b033",
   "metadata": {},
   "outputs": [],
   "source": [
    "merged_df = dataframes[0].merge(dataframes[1],on='gene_id', how='outer')\n",
    "for df in dataframes[2:]:\n",
    "    merged_df = merged_df.merge(df,on='gene_id',how='outer')"
   ]
  },
  {
   "cell_type": "code",
   "execution_count": null,
   "id": "31a1c490",
   "metadata": {},
   "outputs": [],
   "source": [
    "merged_df"
   ]
  },
  {
   "cell_type": "markdown",
   "id": "cabf9f13",
   "metadata": {},
   "source": [
    "## Merging Dataframes And Just Mark Up-Down regulated genes"
   ]
  },
  {
   "cell_type": "code",
   "execution_count": null,
   "id": "58aacf51",
   "metadata": {},
   "outputs": [],
   "source": [
    "new_cols = ['gene_id','baseMean','log2FoldChange','lfcSE','stat','pvalue','padj']\n",
    "dataframes = []\n",
    "for file in files:\n",
    "    df = pd.read_csv(file)\n",
    "    df.columns = new_cols\n",
    "    df.gene_id = df.gene_id.apply(lambda x: x.split(\"gene:\")[1])\n",
    "    #print(file, len(df))\n",
    "    df = df[df.padj <= 0.05]\n",
    "    df.loc[df.log2FoldChange <= -1,'log2FoldChange'] = -1\n",
    "    df.loc[df.log2FoldChange >= 1,'log2FoldChange'] = 1\n",
    "    df.loc[(df.log2FoldChange > -1) & (df.log2FoldChange < 1),'log2FoldChange'] = 0\n",
    "    filename = file.split(\"/\")[-1]\n",
    "    filename = filename.split(\".\")[0]\n",
    "    df = df[['gene_id','log2FoldChange']]\n",
    "    cols = ['gene_id','log2FoldChange_'+filename]\n",
    "    df.columns = cols\n",
    "    dataframes.append(df)"
   ]
  },
  {
   "cell_type": "code",
   "execution_count": null,
   "id": "72f3f4ca",
   "metadata": {},
   "outputs": [],
   "source": [
    "merged_df = curvibacter_genes_df.merge(dataframes[0],on='gene_id',how='outer')\n",
    "for df in dataframes[1:]:\n",
    "    merged_df = merged_df.merge(df,on='gene_id',how='outer')"
   ]
  },
  {
   "cell_type": "code",
   "execution_count": null,
   "id": "2212faba",
   "metadata": {},
   "outputs": [],
   "source": [
    "merged_df = merged_df.fillna(0)"
   ]
  },
  {
   "cell_type": "code",
   "execution_count": null,
   "id": "5adf3509",
   "metadata": {},
   "outputs": [],
   "source": [
    "merged_df.to_csv(\"../../results/curvibacter_full_diff_table_rsem.csv\")"
   ]
  },
  {
   "cell_type": "code",
   "execution_count": null,
   "id": "20acea94",
   "metadata": {},
   "outputs": [],
   "source": [
    "merged_df.to_excel(\"../../results/curvibacter_full_diff_excel_rsem.xlsx\")"
   ]
  },
  {
   "cell_type": "code",
   "execution_count": null,
   "id": "f510a399",
   "metadata": {},
   "outputs": [],
   "source": [
    "np.array(merged_df[['log2FoldChange_hydra_mono_culture_kiel_vs_plate_mono_culture_kiel',\n",
    "       'log2FoldChange_plate_mono_culture_kiel_vs_liquid_mono_culture_orgint',\n",
    "       'log2FoldChange_plate_mono_culture_kiel_vs_liquid_mono_culture_kiel',\n",
    "       'log2FoldChange_hydra_mono_culture_kiel_vs_liquid_mono_culture_orgint',\n",
    "       'log2FoldChange_metatranscriptome_vs_liquid_mono_culture_orgint',\n",
    "       'log2FoldChange_liquid_mono_culture_orgint_vs_metatranscriptome',\n",
    "       'log2FoldChange_hydra_mono_culture_kiel_vs_metatranscriptome',\n",
    "       'log2FoldChange_plate_mono_culture_kiel_vs_hydra_mono_culture_kiel',\n",
    "       'log2FoldChange_metatranscriptome_vs_liquid_mono_culture_kiel',\n",
    "       'log2FoldChange_plate_mono_culture_kiel_vs_metatranscriptome',\n",
    "       'log2FoldChange_liquid_mono_culture_kiel_vs_liquid_mono_culture_orgint',\n",
    "       'log2FoldChange_liquid_mono_culture_kiel_vs_plate_mono_culture_kiel',\n",
    "       'log2FoldChange_metatranscriptome_vs_plate_mono_culture_kiel',\n",
    "       'log2FoldChange_liquid_mono_culture_kiel_vs_hydra_mono_culture_kiel',\n",
    "       'log2FoldChange_liquid_mono_culture_orgint_vs_plate_mono_culture_kiel',\n",
    "       'log2FoldChange_hydra_mono_culture_kiel_vs_liquid_mono_culture_kiel',\n",
    "       'log2FoldChange_liquid_mono_culture_orgint_vs_liquid_mono_culture_kiel',\n",
    "       'log2FoldChange_liquid_mono_culture_kiel_vs_metatranscriptome',\n",
    "       'log2FoldChange_metatranscriptome_vs_hydra_mono_culture_kiel',\n",
    "       'log2FoldChange_liquid_mono_culture_orgint_vs_hydra_mono_culture_kiel']])"
   ]
  }
 ],
 "metadata": {
  "kernelspec": {
   "display_name": "Python 3 (ipykernel)",
   "language": "python",
   "name": "python3"
  },
  "language_info": {
   "codemirror_mode": {
    "name": "ipython",
    "version": 3
   },
   "file_extension": ".py",
   "mimetype": "text/x-python",
   "name": "python",
   "nbconvert_exporter": "python",
   "pygments_lexer": "ipython3",
   "version": "3.8.11"
  }
 },
 "nbformat": 4,
 "nbformat_minor": 5
}
