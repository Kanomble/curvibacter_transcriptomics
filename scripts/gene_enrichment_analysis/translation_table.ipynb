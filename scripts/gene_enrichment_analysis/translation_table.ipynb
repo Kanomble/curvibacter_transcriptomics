{
 "cells": [
  {
   "cell_type": "code",
   "execution_count": 1,
   "id": "433958a2",
   "metadata": {},
   "outputs": [],
   "source": [
    "import pandas as pd"
   ]
  },
  {
   "cell_type": "code",
   "execution_count": 2,
   "id": "7864b8a9",
   "metadata": {},
   "outputs": [],
   "source": [
    "with open(\"../../data/curvibacter_annotation_files/translation_table.csv\", \"r\") as tfile:\n",
    "    with open(\"../../data/curvibacter_annotation_files/translation_table_corrected.csv\",\"w\") as corrtfile:\n",
    "        lines = tfile.readlines()\n",
    "        for line in lines:\n",
    "            line = line.rstrip()\n",
    "            currline = line.split(\"\\t\")\n",
    "            if len(currline) == 3:\n",
    "                corrtfile.write(line+\"\\n\")"
   ]
  },
  {
   "cell_type": "code",
   "execution_count": 3,
   "id": "e2f3f42b",
   "metadata": {},
   "outputs": [],
   "source": [
    "translation_table = pd.read_table(\"../../data/curvibacter_annotation_files/curvibacter_genome_table_go.csv\")"
   ]
  },
  {
   "cell_type": "code",
   "execution_count": 4,
   "id": "bf6e37d9",
   "metadata": {},
   "outputs": [
    {
     "data": {
      "text/html": [
       "<div>\n",
       "<style scoped>\n",
       "    .dataframe tbody tr th:only-of-type {\n",
       "        vertical-align: middle;\n",
       "    }\n",
       "\n",
       "    .dataframe tbody tr th {\n",
       "        vertical-align: top;\n",
       "    }\n",
       "\n",
       "    .dataframe thead th {\n",
       "        text-align: right;\n",
       "    }\n",
       "</style>\n",
       "<table border=\"1\" class=\"dataframe\">\n",
       "  <thead>\n",
       "    <tr style=\"text-align: right;\">\n",
       "      <th></th>\n",
       "      <th>locus_tag</th>\n",
       "      <th>old_locus_tag</th>\n",
       "      <th>protein_id</th>\n",
       "      <th>GOfun</th>\n",
       "      <th>GOpro</th>\n",
       "      <th>GOfun_evidence</th>\n",
       "      <th>GOpro_evidence</th>\n",
       "      <th>product</th>\n",
       "    </tr>\n",
       "  </thead>\n",
       "  <tbody>\n",
       "    <tr>\n",
       "      <th>0</th>\n",
       "      <td>AEP_RS00005</td>\n",
       "      <td>AEP_00001</td>\n",
       "      <td>WP_087493495.1</td>\n",
       "      <td>none</td>\n",
       "      <td>none</td>\n",
       "      <td>none</td>\n",
       "      <td>none</td>\n",
       "      <td>response regulator transcription factor</td>\n",
       "    </tr>\n",
       "    <tr>\n",
       "      <th>1</th>\n",
       "      <td>AEP_RS00010</td>\n",
       "      <td>AEP_00002</td>\n",
       "      <td>WP_087493496.1</td>\n",
       "      <td>GO:0009678</td>\n",
       "      <td>GO:1902600</td>\n",
       "      <td>IEA</td>\n",
       "      <td>IEA</td>\n",
       "      <td>sodium-translocating pyrophosphatase</td>\n",
       "    </tr>\n",
       "    <tr>\n",
       "      <th>2</th>\n",
       "      <td>AEP_RS00015</td>\n",
       "      <td>AEP_00003</td>\n",
       "      <td>WP_087493497.1</td>\n",
       "      <td>GO:0004427</td>\n",
       "      <td>GO:0006796</td>\n",
       "      <td>IEA</td>\n",
       "      <td>IEA</td>\n",
       "      <td>inorganic diphosphatase</td>\n",
       "    </tr>\n",
       "    <tr>\n",
       "      <th>3</th>\n",
       "      <td>AEP_RS00020</td>\n",
       "      <td>AEP_00004</td>\n",
       "      <td>WP_087493498.1</td>\n",
       "      <td>none</td>\n",
       "      <td>none</td>\n",
       "      <td>none</td>\n",
       "      <td>none</td>\n",
       "      <td>alpha/beta fold hydrolase</td>\n",
       "    </tr>\n",
       "    <tr>\n",
       "      <th>4</th>\n",
       "      <td>AEP_RS00025</td>\n",
       "      <td>AEP_00005</td>\n",
       "      <td>WP_087493499.1</td>\n",
       "      <td>none</td>\n",
       "      <td>GO:0006935;GO:0007165</td>\n",
       "      <td>none</td>\n",
       "      <td>IEA;IEA</td>\n",
       "      <td>chemotaxis protein CheW</td>\n",
       "    </tr>\n",
       "  </tbody>\n",
       "</table>\n",
       "</div>"
      ],
      "text/plain": [
       "     locus_tag old_locus_tag      protein_id       GOfun  \\\n",
       "0  AEP_RS00005     AEP_00001  WP_087493495.1        none   \n",
       "1  AEP_RS00010     AEP_00002  WP_087493496.1  GO:0009678   \n",
       "2  AEP_RS00015     AEP_00003  WP_087493497.1  GO:0004427   \n",
       "3  AEP_RS00020     AEP_00004  WP_087493498.1        none   \n",
       "4  AEP_RS00025     AEP_00005  WP_087493499.1        none   \n",
       "\n",
       "                   GOpro GOfun_evidence GOpro_evidence  \\\n",
       "0                   none           none           none   \n",
       "1             GO:1902600            IEA            IEA   \n",
       "2             GO:0006796            IEA            IEA   \n",
       "3                   none           none           none   \n",
       "4  GO:0006935;GO:0007165           none        IEA;IEA   \n",
       "\n",
       "                                   product  \n",
       "0  response regulator transcription factor  \n",
       "1     sodium-translocating pyrophosphatase  \n",
       "2                  inorganic diphosphatase  \n",
       "3                alpha/beta fold hydrolase  \n",
       "4                  chemotaxis protein CheW  "
      ]
     },
     "execution_count": 4,
     "metadata": {},
     "output_type": "execute_result"
    }
   ],
   "source": [
    "translation_table.head()"
   ]
  },
  {
   "cell_type": "code",
   "execution_count": 5,
   "id": "c7df3820",
   "metadata": {},
   "outputs": [],
   "source": [
    "gene_to_go_dict = {}\n",
    "gene_to_goEvidence_dict = {}\n",
    "\n",
    "for locus in translation_table.old_locus_tag:    \n",
    "    gene_to_go_dict[locus] = []\n",
    "    gene_to_goEvidence_dict[locus] = []\n",
    "    \n",
    "    gopro_list = translation_table[translation_table.old_locus_tag == locus].GOpro.apply(lambda x: x.split(\";\")).to_list()[0]\n",
    "    gofun_list = translation_table[translation_table.old_locus_tag == locus].GOfun.apply(lambda x: x.split(\";\")).to_list()[0]\n",
    "    gopro_evidence_list = translation_table[translation_table.old_locus_tag == locus].GOpro_evidence.apply(lambda x: x.split(\";\")).to_list()[0]\n",
    "    gofun_evidence_list = translation_table[translation_table.old_locus_tag == locus].GOfun_evidence.apply(lambda x: x.split(\";\")).to_list()[0]\n",
    "\n",
    "    if gopro_list[0] != \"none\":\n",
    "        for gopro in gopro_list:\n",
    "            gene_to_go_dict[locus].append(gopro)\n",
    "        for gopro_evidence in gopro_evidence_list:\n",
    "            gene_to_goEvidence_dict[locus].append(gopro_evidence)\n",
    "\n",
    "    if gofun_list[0] != \"none\":\n",
    "        for gofun in gofun_list:\n",
    "            gene_to_go_dict[locus].append(gofun)\n",
    "        \n",
    "        for gofun_evidence in gofun_evidence_list:\n",
    "            gene_to_goEvidence_dict[locus].append(gofun_evidence)"
   ]
  },
  {
   "cell_type": "code",
   "execution_count": 6,
   "id": "2502afbc",
   "metadata": {},
   "outputs": [],
   "source": [
    "with open(\"../../data/curvibacter_annotation_files/curvibacter_go_annotation_forge.csv\",\"w\") as goannot:\n",
    "    goannot.write(\"GID\\tGO\\tEVIDENCE\\n\")\n",
    "    for key in gene_to_go_dict.keys():\n",
    "        if len(gene_to_go_dict[key]) > 0:\n",
    "            for go, evidence in zip(gene_to_go_dict[key],gene_to_goEvidence_dict[key]):\n",
    "                goannot.write(key + \"\\t\" + go + \"\\t\" + evidence + \"\\n\")        "
   ]
  },
  {
   "cell_type": "code",
   "execution_count": 7,
   "id": "487670c0",
   "metadata": {},
   "outputs": [],
   "source": [
    "# TODO add genes on plasmid ...\n",
    "with open(\"../../data/curvibacter_annotation_files/curvibacter_chromosome_annotation_forge.csv\",\"w\") as chromosome_annot:\n",
    "    chromosome_annot.write(\"GID\\tCHROMOSOME\\n\")\n",
    "    for key in translation_table.old_locus_tag:\n",
    "        chromosome_annot.write(key + \"\\t\" + \"1\\n\")"
   ]
  },
  {
   "cell_type": "code",
   "execution_count": 8,
   "id": "6c0daf44",
   "metadata": {},
   "outputs": [],
   "source": [
    "# TODO add genes on plasmid ...\n",
    "with open(\"../../data/curvibacter_annotation_files/curvibacter_info_annotation_forge.csv\",\"w\") as gene_info:\n",
    "    gene_info.write(\"GID\\tSYMBOL\\tGENENAME\\n\")\n",
    "    for gid, gsymbol, ginfo in zip(translation_table.old_locus_tag, translation_table.protein_id, translation_table[\"product\"]):\n",
    "        gene_info.write(gid + \"\\t\" + gsymbol + \"\\t\" + ginfo + \"\\n\")"
   ]
  }
 ],
 "metadata": {
  "kernelspec": {
   "display_name": "Python 3 (ipykernel)",
   "language": "python",
   "name": "python3"
  },
  "language_info": {
   "codemirror_mode": {
    "name": "ipython",
    "version": 3
   },
   "file_extension": ".py",
   "mimetype": "text/x-python",
   "name": "python",
   "nbconvert_exporter": "python",
   "pygments_lexer": "ipython3",
   "version": "3.8.11"
  }
 },
 "nbformat": 4,
 "nbformat_minor": 5
}
