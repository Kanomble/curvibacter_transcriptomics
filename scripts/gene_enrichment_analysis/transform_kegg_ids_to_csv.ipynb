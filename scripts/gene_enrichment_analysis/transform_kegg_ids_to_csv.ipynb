{
 "cells": [
  {
   "cell_type": "code",
   "execution_count": 1,
   "id": "f540456a",
   "metadata": {},
   "outputs": [],
   "source": [
    "import pandas as pd"
   ]
  },
  {
   "cell_type": "code",
   "execution_count": 3,
   "id": "2afc62cf",
   "metadata": {},
   "outputs": [],
   "source": [
    "table = pd.read_csv(\"../../results/gene_enrichment_analysis/upregulated_kegg_ids.txt\")\n",
    "table[[\"V1\",\"V2\"]].to_csv(\"../../results/gene_enrichment_analysis/kegg_ids.txt\", sep=\"\\t\", index=None)"
   ]
  }
 ],
 "metadata": {
  "kernelspec": {
   "display_name": "Python 3 (ipykernel)",
   "language": "python",
   "name": "python3"
  },
  "language_info": {
   "codemirror_mode": {
    "name": "ipython",
    "version": 3
   },
   "file_extension": ".py",
   "mimetype": "text/x-python",
   "name": "python",
   "nbconvert_exporter": "python",
   "pygments_lexer": "ipython3",
   "version": "3.8.11"
  }
 },
 "nbformat": 4,
 "nbformat_minor": 5
}
