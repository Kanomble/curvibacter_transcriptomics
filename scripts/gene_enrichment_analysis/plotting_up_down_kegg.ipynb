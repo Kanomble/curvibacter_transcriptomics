{
 "cells": [
  {
   "cell_type": "code",
   "execution_count": null,
   "id": "2c49b2c3",
   "metadata": {},
   "outputs": [],
   "source": [
    "import pandas as pd\n",
    "import matplotlib.pyplot as plt\n",
    "import numpy as np\n",
    "from matplotlib.cm import ScalarMappable\n"
   ]
  },
  {
   "cell_type": "code",
   "execution_count": null,
   "id": "c37235c3",
   "metadata": {},
   "outputs": [],
   "source": [
    "upregulated = pd.read_csv(\"../../results/gene_enrichment_analysis/kegg_enrich_upregulated.csv\")\n",
    "downregulated = pd.read_csv(\"../../results/gene_enrichment_analysis/kegg_enrich_downregulated.csv\")"
   ]
  },
  {
   "cell_type": "code",
   "execution_count": null,
   "id": "df89105b",
   "metadata": {},
   "outputs": [],
   "source": [
    "upregulated.head()"
   ]
  },
  {
   "cell_type": "code",
   "execution_count": null,
   "id": "8b62dc20",
   "metadata": {},
   "outputs": [],
   "source": [
    "sig_upregulated = upregulated[upregulated[\"p.adjust\"] <= 0.05]\n",
    "sig_downregulated = downregulated[downregulated[\"p.adjust\"] <= 0.05]"
   ]
  },
  {
   "cell_type": "code",
   "execution_count": null,
   "id": "b714e3ba",
   "metadata": {},
   "outputs": [],
   "source": [
    "counts_downregulated = sig_downregulated[\"GeneRatio\"].apply(lambda x: int(x.split(\"/\")[0])).to_list()\n",
    "counts_pop_downregulated = sig_downregulated[\"BgRatio\"].apply(lambda x: int(x.split(\"/\")[0])).to_list()\n",
    "ratio_downregulated = [x/y for x,y in zip(counts_downregulated, counts_pop_downregulated)]\n",
    "labels_downregulated = sig_downregulated[\"Description\"].to_list()\n",
    "padjust_downregulated = sig_downregulated[\"p.adjust\"].to_list()\n",
    "id_downregulated = sig_downregulated[\"ID\"].to_list()\n",
    "\n",
    "counts_downregulated = [-x for x in counts_downregulated]\n",
    "\n",
    "\n",
    "counts_upregulated = sig_upregulated[\"GeneRatio\"].apply(lambda x: int(x.split(\"/\")[0])).to_list()\n",
    "counts_pop_upregulated  = sig_upregulated[\"BgRatio\"].apply(lambda x: int(x.split(\"/\")[0])).to_list()\n",
    "ratio_upregulated = [x/y for x,y in zip(counts_upregulated, counts_pop_upregulated)]\n",
    "labels_upregulated  = sig_upregulated[\"Description\"].to_list()\n",
    "padjust_upregulated = sig_upregulated[\"p.adjust\"].to_list()\n",
    "id_upregulated = sig_upregulated[\"ID\"].to_list()\n",
    "\n",
    "ids = id_downregulated + id_upregulated\n",
    "\n",
    "\n",
    "counts = counts_downregulated + counts_upregulated\n",
    "ratio = ratio_downregulated + ratio_upregulated\n",
    "labels = labels_downregulated + labels_upregulated\n",
    "labels = [x.replace(\"ko\",\"\") + \" \" + y for x,y in zip(ids, labels)]\n",
    "\n",
    "pvals = padjust_downregulated + padjust_upregulated\n",
    "marker_size = counts_pop_downregulated + counts_pop_upregulated\n"
   ]
  },
  {
   "cell_type": "code",
   "execution_count": null,
   "id": "373d4cbb",
   "metadata": {},
   "outputs": [],
   "source": [
    "pcolors = pvals\n",
    "norm_p_values = np.array(pcolors) / max(pcolors)\n",
    "colors=plt.cm.RdBu_r(norm_p_values)"
   ]
  },
  {
   "cell_type": "code",
   "execution_count": null,
   "id": "88837703",
   "metadata": {},
   "outputs": [],
   "source": [
    "#marker_legend = np.linspace(min(marker_size), max(marker_size), num=6, endpoint=True, retstep=False, dtype=None)\n",
    "#marker_legend = [int(x) for x in marker_legend]\n",
    "marker_legend = marker_size\n",
    "marker_legend = sorted(marker_legend, reverse=True)"
   ]
  },
  {
   "cell_type": "code",
   "execution_count": null,
   "id": "cc8b2900",
   "metadata": {},
   "outputs": [],
   "source": [
    "sorted_markersize = sorted(np.array(marker_legend)*10, reverse=True)\n",
    "sorted_markers = sorted(marker_legend, reverse=True)"
   ]
  },
  {
   "cell_type": "code",
   "execution_count": null,
   "id": "7b8c47ca",
   "metadata": {},
   "outputs": [],
   "source": [
    "fig, (ax1, ax2, ax3) = plt.subplots(1, 3, figsize=(18, 10), sharey=False, gridspec_kw={'width_ratios': [2.5, 2.0, 1]})\n",
    "\n",
    "ax1.sharey(ax2)\n",
    "\n",
    "ax1.barh(labels,width=counts, color=colors, edgecolor=\"black\")\n",
    "ax2.scatter(y=[0,1,2,3,4,5], x=ratio, s=np.array(marker_size)*10, c=colors, cmap='RdBu_r', edgecolors=\"black\")\n",
    "\n",
    "ax1.set_xlim(-50,50)\n",
    "#ax1.set_xticklabels(fontsize=16)\n",
    "ax1.set_xticks([-40,-30,-20,-10,0,10,20,30,40])\n",
    "ax1.set_xticklabels([40,30,20,10,0,10,20,30,40], fontsize=20)\n",
    "ax1.set_yticks([0,1,2,3,4,5])\n",
    "ax1.set_yticklabels(labels, fontsize=20, fontdict={'fontweight':\"bold\"})\n",
    "ax1.set_xlabel(\"Count\", fontsize=20, labelpad=20,  fontdict={'fontweight':\"bold\"})\n",
    "ax1.grid()\n",
    "\n",
    "ax2.set_xlim(-0.2,1.2)\n",
    "ax2.set_xticks([0.0,0.25,0.5,0.75,1.0])\n",
    "ax2.set_xticklabels([0.0,0.25,0.5,0.75,1.0], fontsize=20)\n",
    "ax2.set_xlabel(\"Count/ClusterSize\", fontsize=20, labelpad=20,  fontdict={'fontweight':\"bold\"})\n",
    "ax2.tick_params(axis='y', labelleft=False)\n",
    "ax2.grid()\n",
    "\n",
    "plt.subplots_adjust(left=0.2, wspace=0.05)\n",
    "\n",
    "cbar = fig.colorbar(ScalarMappable(cmap='RdBu_r'), ax=[ax1, ax2], pad = 0.005)\n",
    "cbar.set_label('p-values',fontsize=20, labelpad=0)\n",
    "cbar.set_ticks([min(norm_p_values), max(norm_p_values)])\n",
    "cbar.set_ticklabels([f'{min(pvals):.2f}', f'{max(pvals):.2f}'])\n",
    "cbar.ax.tick_params(labelsize=20)\n",
    "\n",
    "cbar.ax.set_position([0.71, 0.12, 0.03, 0.35])\n",
    "\n",
    "ax3.set_position([0.71, 0.52, 0.05, 0.315])\n",
    "ax3.scatter(x=[0.5 for i in labels], y=[0,1,2,3,4,5], s=sorted_markersize, color=\"grey\", edgecolor=\"black\")\n",
    "ax3.set_yticks([0,1,2,3,4,5])\n",
    "ax3.set_yticklabels(sorted_markers, fontsize=20)\n",
    "ax3.set_xlim(0,1)\n",
    "ax3.set_ylim(-1,6)\n",
    "ax3.tick_params(axis='y', labelright=True, labelleft=False)\n",
    "ax3.tick_params(axis='x', labelbottom=False)\n",
    "ax3.set_xticks([])\n",
    "ax3.yaxis.tick_right()   \n",
    "ax3.set_title(\"ClusterSize\", pad=10, fontsize=20)\n",
    "#ax3.grid()\n",
    "#ax3.axis(\"off\")\n",
    "plt.savefig(\"../../results/gene_enrichment_analysis/up_down_combined.jpg\", dpi=400, bbox_inches='tight')\n",
    "#plt.tight_layout()"
   ]
  },
  {
   "cell_type": "code",
   "execution_count": null,
   "id": "e3efc3e1",
   "metadata": {},
   "outputs": [],
   "source": [
    "fig, (ax1, ax2, ax3) = plt.subplots(1, 3, figsize=(18, 10), sharey=False, gridspec_kw={'width_ratios': [2.5, 2.0, 1]})\n",
    "ax1.sharey(ax2)\n",
    "\n",
    "ax1.barh(labels,width=counts, color=colors, edgecolor=\"black\")\n",
    "ax2.scatter(y=[0,1,2,3,4,5], x=ratio, s=np.array(abs(np.array(counts)))*40, c=colors, cmap='RdBu_r', edgecolors=\"black\")\n",
    "\n",
    "ax1.set_xlim(-50,50)\n",
    "#ax1.set_xticklabels(fontsize=16)\n",
    "ax1.set_xticks([-40,-30,-20,-10,0,10,20,30,40])\n",
    "ax1.set_xticklabels([40,30,20,10,0,10,20,30,40], fontsize=20)\n",
    "ax1.set_yticks([0,1,2,3,4,5])\n",
    "ax1.set_yticklabels(labels, fontsize=20, fontdict={'fontweight':\"bold\"})\n",
    "ax1.set_xlabel(\"Count\", fontsize=20, labelpad=20,  fontdict={'fontweight':\"bold\"})\n",
    "ax1.grid()\n",
    "\n",
    "#for spine in ax1.spines.values():\n",
    "#    spine.set_linewidth(2)\n",
    "\n",
    "ax2.set_xlim(-0.2,1.2)\n",
    "ax2.set_xticks([0.0,0.25,0.5,0.75,1.0])\n",
    "ax2.set_xticklabels([0.0,0.25,0.5,0.75,1.0], fontsize=20)\n",
    "ax2.set_xlabel(\"Count/ClusterSize\", fontsize=20, labelpad=20,  fontdict={'fontweight':\"bold\"})\n",
    "ax2.tick_params(axis='y', labelleft=False)\n",
    "ax2.grid()\n",
    "\n",
    "\n",
    "#for spine in ax2.spines.values():\n",
    "#    spine.set_linewidth(2)\n",
    "\n",
    "plt.subplots_adjust(left=0.2, wspace=0.05)\n",
    "\n",
    "cbar = fig.colorbar(ScalarMappable(cmap='RdBu_r'), ax=[ax1, ax2], pad = 0.005)\n",
    "cbar.set_label('p-values',fontsize=20, labelpad=0)\n",
    "cbar.set_ticks([min(norm_p_values), max(norm_p_values)])\n",
    "cbar.set_ticklabels([f'{min(pvals):.2f}', f'{max(pvals):.2f}'])\n",
    "cbar.ax.tick_params(labelsize=20)\n",
    "\n",
    "cbar.ax.set_position([0.71, 0.12, 0.03, 0.3])\n",
    "\n",
    "ax3.set_position([0.71, 0.45, 0.05, 0.4])\n",
    "ax3.scatter(x=[0.5 for i in labels], y=[0,1,2,3,4,5], s=sorted(abs(np.array(counts))*40, reverse=True), color=\"grey\", edgecolor=\"black\")\n",
    "ax3.set_yticks([0,1,2,3,4,5])\n",
    "ax3.set_yticklabels(sorted(abs(np.array(counts)), reverse=True), fontsize=20)\n",
    "ax3.set_xlim(0,1)\n",
    "ax3.set_ylim(-1,6)\n",
    "ax3.tick_params(axis='y', labelright=True, labelleft=False)\n",
    "ax3.tick_params(axis='x', labelbottom=False)\n",
    "ax3.set_xticks([])\n",
    "ax3.yaxis.tick_right()   \n",
    "ax3.set_title(\"Count\", pad=10, fontsize=20)\n",
    "#ax3.grid()\n",
    "#ax3.axis(\"off\")\n",
    "\n",
    "#for spine in ax3.spines.values():\n",
    "#    spine.set_linewidth(2)\n",
    "\n",
    "plt.savefig(\"../../results/gene_enrichment_analysis/up_down_combined_new.jpg\", dpi=400, bbox_inches='tight')\n",
    "#plt.tight_layout()"
   ]
  }
 ],
 "metadata": {
  "kernelspec": {
   "display_name": "Python 3 (ipykernel)",
   "language": "python",
   "name": "python3"
  },
  "language_info": {
   "codemirror_mode": {
    "name": "ipython",
    "version": 3
   },
   "file_extension": ".py",
   "mimetype": "text/x-python",
   "name": "python",
   "nbconvert_exporter": "python",
   "pygments_lexer": "ipython3",
   "version": "3.8.11"
  }
 },
 "nbformat": 4,
 "nbformat_minor": 5
}
